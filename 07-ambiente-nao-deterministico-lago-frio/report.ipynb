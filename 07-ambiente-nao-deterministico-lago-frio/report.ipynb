{
 "cells": [
  {
   "cell_type": "markdown",
   "metadata": {},
   "source": [
    "# Exercício 07 - Reinforcement Learning\n",
    "\n",
    "## Q-Learning vs Sarsa - Ambiente não-determinístico\n",
    "\n",
    "**Autores: Jorás e Renato**\n",
    "\n",
    "Este projeto tem o objetivo de treinar modelos de reinforcement learning baseados nos algoritmos Q-Learning e Sarsa para o ambiente do Frozen Lake."
   ]
  },
  {
   "cell_type": "code",
   "execution_count": 1,
   "metadata": {},
   "outputs": [],
   "source": [
    "from src.frozen_lake import frozen_lake\n",
    "from src.plotter import plotter\n",
    "from src.hyperparameters_data import Hyperparameters\n",
    "from src.parameters_data import Parameters"
   ]
  },
  {
   "cell_type": "markdown",
   "metadata": {},
   "source": [
    "Os conjuntos de hiperparâmetros que serão utilizados para treinamento e avaliação dos agentes estão definidos abaixo:"
   ]
  },
  {
   "cell_type": "code",
   "execution_count": 2,
   "metadata": {},
   "outputs": [],
   "source": [
    "hyperparameters_1 = Hyperparameters(\n",
    "    alpha=0.1,\n",
    "    gamma=0.99,\n",
    "    epsilon=0.6,\n",
    "    epsilon_min=0.05,\n",
    "    epsilon_dec=0.99\n",
    ")\n",
    "\n",
    "hyperparameters_2 = Hyperparameters(\n",
    "    alpha=0.05,\n",
    "    gamma=0.98,\n",
    "    epsilon=0.9,\n",
    "    epsilon_min=0.05,\n",
    "    epsilon_dec=0.99\n",
    ")"
   ]
  },
  {
   "cell_type": "markdown",
   "metadata": {},
   "source": [
    "## Rotina de treinamento\n",
    "\n",
    "Inicialmente, deve ser realizado o treinamento dos agentes. **Quatro** agentes diferentes serão treinados:\n",
    "\n",
    "1. Algoritmo Q-Learning para o primeiro conjunto de hiperparâmetros;\n",
    "2. Algoritmo Sarsa para o primeiro conjunto de hiperparâmetros;\n",
    "3. Algoritmo Q-Learning para o segundo conjunto de hiperparâmetros;\n",
    "4. Algoritmo Sarsa para o segundo conjunto de hiperparâmetros;"
   ]
  },
  {
   "cell_type": "code",
   "execution_count": 3,
   "metadata": {},
   "outputs": [
    {
     "name": "stdout",
     "output_type": "stream",
     "text": [
      "Training the agent for 18000 episodes.\n",
      "Training the agent for 18000 episodes.\n",
      "Training the agent for 18000 episodes.\n",
      "Training the agent for 18000 episodes.\n",
      "Episodes: 18000\r"
     ]
    }
   ],
   "source": [
    "for algorithm in [\"q-learning\", \"sarsa\"]:\n",
    "    for i, hyperparameters in enumerate([hyperparameters_1, hyperparameters_2]):\n",
    "        parameters = Parameters(\n",
    "            filename=f\"new-{algorithm}-hyperparameters-{i+1}\",\n",
    "            data_dir=\"data\",\n",
    "            results_dir=\"results\",\n",
    "            train=True,\n",
    "            episodes=18000\n",
    "        )\n",
    "        frozen_lake(hyperparameters, parameters, algorithm)"
   ]
  },
  {
   "cell_type": "markdown",
   "metadata": {},
   "source": [
    "Abaixo estão expostos os gráficos das curvas de aprendizado de cada agente:"
   ]
  },
  {
   "cell_type": "code",
   "execution_count": 4,
   "metadata": {},
   "outputs": [],
   "source": [
    "for algorithm in [\"q-learning\", \"sarsa\"]:\n",
    "    for i, hyperparameters in enumerate([hyperparameters_1, hyperparameters_2]):\n",
    "        plotter(\n",
    "            filename=f\"new-{algorithm}-hyperparameters-{i+1}\",\n",
    "            data_dir=\"data\",\n",
    "            results_dir=\"results\",\n",
    "            algorithm=algorithm,\n",
    "            hyperparameters=hyperparameters\n",
    "        )"
   ]
  },
  {
   "cell_type": "markdown",
   "metadata": {},
   "source": [
    "![learning curve q-learning 1](results/q-learning-hyperparameters-1.png)\n",
    "![learning curve q-learning 2](results/q-learning-hyperparameters-2.png)\n",
    "![learning curve sarsa 1](results/sarsa-hyperparameters-1.png)\n",
    "![learning curve sarsa 2](results/sarsa-hyperparameters-2.png)"
   ]
  },
  {
   "cell_type": "markdown",
   "metadata": {},
   "source": [
    "## Rotina de avaliação dos agentes\n",
    "\n",
    "Para avaliar cada um dos agentes, eles serão testados diversas vezes no ambiente, com o objetivo de se obter o desempenho do agente, que será dado pela média da quantidade de vezes que o mesmo chegou até o destino final sem cair em um buraco."
   ]
  },
  {
   "cell_type": "code",
   "execution_count": 5,
   "metadata": {},
   "outputs": [],
   "source": [
    "performance_dict = {}\n",
    "number_of_experiments = 100\n",
    "for algorithm in [\"q-learning\", \"sarsa\"]:\n",
    "    for i, hyperparameters in enumerate([hyperparameters_1, hyperparameters_2]):\n",
    "        filename = f\"{algorithm}-hyperparameters-{i+1}\"\n",
    "        parameters = Parameters(\n",
    "            filename=filename,\n",
    "            data_dir=\"data\",\n",
    "            results_dir=\"results\",\n",
    "            train=False\n",
    "        )\n",
    "        performance_dict[filename] = 0\n",
    "        for j in range(number_of_experiments):\n",
    "            performance_dict[filename] += frozen_lake(hyperparameters, parameters, algorithm)\n",
    "        performance_dict[filename] /= number_of_experiments"
   ]
  },
  {
   "cell_type": "markdown",
   "metadata": {},
   "source": [
    "As seguintes são as performances de cada algoritmo calculada, dada pela porcentagem média de vezes que chega ao destino sem cair no buraco:"
   ]
  },
  {
   "cell_type": "code",
   "execution_count": 6,
   "metadata": {},
   "outputs": [
    {
     "name": "stdout",
     "output_type": "stream",
     "text": [
      "Performance do agente q-learning-hyperparameters-1: 72.71%\n",
      "Performance do agente q-learning-hyperparameters-2: 73.49%\n",
      "Performance do agente sarsa-hyperparameters-1: 71.05%\n",
      "Performance do agente sarsa-hyperparameters-2: 73.15%\n"
     ]
    }
   ],
   "source": [
    "for agent, performance in performance_dict.items():\n",
    "    print(f\"Performance do agente {agent}: {performance}%\")"
   ]
  },
  {
   "cell_type": "markdown",
   "metadata": {},
   "source": [
    "## Conclusão\n",
    "\n",
    "Considerando que se trata de um ambiente não determinístico, isto é, nem sempre o ambiente responde às ações do agente da mesma maneira, podemos analisar um comportamento interessante em relação à escolha de um hiperparâmetro epsilon ($\\epsilon$) maior. Embora este parâmetro aumente a possibilidade de o agente escolher uma ação aleatoriamente, aumentando consecutivamente o não-determinismo de suas ações, esta escolha também mostrou uma tendência a aumentar a recompensa média à longo prazo, ao custo de uma curva de aprendizado mais lenta.\n",
    "\n",
    "Por outro lado, quando o valor de epsilon é menor, o agente tende a realizar suas escolhas de forma mais consciente, buscando maximizar sempre o retorno, de acordo com a Q-Table. No entanto, esta preferência pelo exploit da Q-Table não se mostra tão recompensador, pois o próprio ambiente sabota estas decisões, exatamente por causa de seu comportamento não-determinístico.\n",
    "\n",
    "De forma geral, o Q-Learning demonstrou uma performance ligeiramente superior ao Sarsa, possivelmente se dando por conta de suas características mais conservadoras na escolha da próxima ação."
   ]
  }
 ],
 "metadata": {
  "kernelspec": {
   "display_name": ".venv",
   "language": "python",
   "name": "python3"
  },
  "language_info": {
   "codemirror_mode": {
    "name": "ipython",
    "version": 3
   },
   "file_extension": ".py",
   "mimetype": "text/x-python",
   "name": "python",
   "nbconvert_exporter": "python",
   "pygments_lexer": "ipython3",
   "version": "3.10.12"
  }
 },
 "nbformat": 4,
 "nbformat_minor": 2
}
